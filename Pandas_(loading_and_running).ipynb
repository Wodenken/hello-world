{
  "nbformat": 4,
  "nbformat_minor": 0,
  "metadata": {
    "colab": {
      "name": "Pandas (loading and running).ipynb",
      "provenance": [],
      "include_colab_link": true
    },
    "kernelspec": {
      "name": "python3",
      "display_name": "Python 3"
    }
  },
  "cells": [
    {
      "cell_type": "markdown",
      "metadata": {
        "id": "view-in-github",
        "colab_type": "text"
      },
      "source": [
        "<a href=\"https://colab.research.google.com/github/Wodenken/hello-world/blob/master/Pandas_(loading_and_running).ipynb\" target=\"_parent\"><img src=\"https://colab.research.google.com/assets/colab-badge.svg\" alt=\"Open In Colab\"/></a>"
      ]
    },
    {
      "cell_type": "code",
      "metadata": {
        "id": "0PPTN_B9incx",
        "colab_type": "code",
        "outputId": "2189e9e8-66dd-44f5-8f3e-d8f72d4d5ab0",
        "colab": {
          "base_uri": "https://localhost:8080/",
          "height": 638
        }
      },
      "source": [
        "# CSV database\n",
        "import pandas as pd\n",
        "import numpy as np\n",
        "df = pd.read_csv(\"https://tf-assets-prod.s3.amazonaws.com/tf-curric/data-analytics-bootcamp/nyc_baby_names.csv\")\n",
        "df.info()\n",
        "df.head(3)\n"
      ],
      "execution_count": 0,
      "outputs": [
        {
          "output_type": "stream",
          "text": [
            "<class 'pandas.core.frame.DataFrame'>\n",
            "RangeIndex: 11345 entries, 0 to 11344\n",
            "Data columns (total 12 columns):\n",
            "Year of Birth           11345 non-null int64\n",
            "Gender                  11345 non-null object\n",
            "Ethnicity               11345 non-null object\n",
            "Child's First Name      11345 non-null object\n",
            "Count                   11345 non-null int64\n",
            "Rank                    11345 non-null int64\n",
            "Gender.1                11345 non-null object\n",
            "Ethnicity.1             11345 non-null object\n",
            "Child's First Name.1    11345 non-null object\n",
            "Sub1                    11345 non-null object\n",
            "Sub2                    11345 non-null object\n",
            "Unnamed: 11             0 non-null float64\n",
            "dtypes: float64(1), int64(3), object(8)\n",
            "memory usage: 1.0+ MB\n"
          ],
          "name": "stdout"
        },
        {
          "output_type": "execute_result",
          "data": {
            "text/html": [
              "<div>\n",
              "<style scoped>\n",
              "    .dataframe tbody tr th:only-of-type {\n",
              "        vertical-align: middle;\n",
              "    }\n",
              "\n",
              "    .dataframe tbody tr th {\n",
              "        vertical-align: top;\n",
              "    }\n",
              "\n",
              "    .dataframe thead th {\n",
              "        text-align: right;\n",
              "    }\n",
              "</style>\n",
              "<table border=\"1\" class=\"dataframe\">\n",
              "  <thead>\n",
              "    <tr style=\"text-align: right;\">\n",
              "      <th></th>\n",
              "      <th>Year of Birth</th>\n",
              "      <th>Gender</th>\n",
              "      <th>Ethnicity</th>\n",
              "      <th>Child's First Name</th>\n",
              "      <th>Count</th>\n",
              "      <th>Rank</th>\n",
              "      <th>Gender.1</th>\n",
              "      <th>Ethnicity.1</th>\n",
              "      <th>Child's First Name.1</th>\n",
              "      <th>Sub1</th>\n",
              "      <th>Sub2</th>\n",
              "      <th>Unnamed: 11</th>\n",
              "    </tr>\n",
              "  </thead>\n",
              "  <tbody>\n",
              "    <tr>\n",
              "      <th>0</th>\n",
              "      <td>2011</td>\n",
              "      <td>FEMALE</td>\n",
              "      <td>ASIAN AND PACIFIC ISLANDER</td>\n",
              "      <td>SOPHIA</td>\n",
              "      <td>119</td>\n",
              "      <td>1</td>\n",
              "      <td>Female</td>\n",
              "      <td>Asian And Pacific Islander</td>\n",
              "      <td>Sophia</td>\n",
              "      <td>Asian And Paci</td>\n",
              "      <td>Asian And Pacific Islander</td>\n",
              "      <td>NaN</td>\n",
              "    </tr>\n",
              "    <tr>\n",
              "      <th>1</th>\n",
              "      <td>2011</td>\n",
              "      <td>FEMALE</td>\n",
              "      <td>ASIAN AND PACIFIC ISLANDER</td>\n",
              "      <td>CHLOE</td>\n",
              "      <td>106</td>\n",
              "      <td>2</td>\n",
              "      <td>Female</td>\n",
              "      <td>Asian And Pacific Islander</td>\n",
              "      <td>Chloe</td>\n",
              "      <td>Asian And Paci</td>\n",
              "      <td>Asian And Pacific Islander</td>\n",
              "      <td>NaN</td>\n",
              "    </tr>\n",
              "    <tr>\n",
              "      <th>2</th>\n",
              "      <td>2011</td>\n",
              "      <td>FEMALE</td>\n",
              "      <td>ASIAN AND PACIFIC ISLANDER</td>\n",
              "      <td>EMILY</td>\n",
              "      <td>93</td>\n",
              "      <td>3</td>\n",
              "      <td>Female</td>\n",
              "      <td>Asian And Pacific Islander</td>\n",
              "      <td>Emily</td>\n",
              "      <td>Asian And Paci</td>\n",
              "      <td>Asian And Pacific Islander</td>\n",
              "      <td>NaN</td>\n",
              "    </tr>\n",
              "  </tbody>\n",
              "</table>\n",
              "</div>"
            ],
            "text/plain": [
              "   Year of Birth  Gender  ...                        Sub2 Unnamed: 11\n",
              "0           2011  FEMALE  ...  Asian And Pacific Islander         NaN\n",
              "1           2011  FEMALE  ...  Asian And Pacific Islander         NaN\n",
              "2           2011  FEMALE  ...  Asian And Pacific Islander         NaN\n",
              "\n",
              "[3 rows x 12 columns]"
            ]
          },
          "metadata": {
            "tags": []
          },
          "execution_count": 4
        }
      ]
    },
    {
      "cell_type": "code",
      "metadata": {
        "id": "cLQRnBAejGRE",
        "colab_type": "code",
        "outputId": "6cf47fcf-1562-49ee-ebe7-d1b0c054cd56",
        "colab": {
          "base_uri": "https://localhost:8080/",
          "height": 587
        }
      },
      "source": [
        "# JSON database\n",
        "df_2 = pd.read_json('https://tf-assets-prod.s3.amazonaws.com/tf-curric/data-analytics-bootcamp/tweets.json')\n",
        "df.info()\n",
        "df.head(3)"
      ],
      "execution_count": 0,
      "outputs": [
        {
          "output_type": "stream",
          "text": [
            "<class 'pandas.core.frame.DataFrame'>\n",
            "RangeIndex: 11345 entries, 0 to 11344\n",
            "Data columns (total 12 columns):\n",
            "Year of Birth           11345 non-null int64\n",
            "Gender                  11345 non-null object\n",
            "Ethnicity               11345 non-null object\n",
            "Child's First Name      11345 non-null object\n",
            "Count                   11345 non-null int64\n",
            "Rank                    11345 non-null int64\n",
            "Gender.1                11345 non-null object\n",
            "Ethnicity.1             11345 non-null object\n",
            "Child's First Name.1    11345 non-null object\n",
            "Sub1                    11345 non-null object\n",
            "Sub2                    11345 non-null object\n",
            "Unnamed: 11             0 non-null float64\n",
            "dtypes: float64(1), int64(3), object(8)\n",
            "memory usage: 1.0+ MB\n"
          ],
          "name": "stdout"
        },
        {
          "output_type": "execute_result",
          "data": {
            "text/html": [
              "<div>\n",
              "<style scoped>\n",
              "    .dataframe tbody tr th:only-of-type {\n",
              "        vertical-align: middle;\n",
              "    }\n",
              "\n",
              "    .dataframe tbody tr th {\n",
              "        vertical-align: top;\n",
              "    }\n",
              "\n",
              "    .dataframe thead th {\n",
              "        text-align: right;\n",
              "    }\n",
              "</style>\n",
              "<table border=\"1\" class=\"dataframe\">\n",
              "  <thead>\n",
              "    <tr style=\"text-align: right;\">\n",
              "      <th></th>\n",
              "      <th>Year of Birth</th>\n",
              "      <th>Gender</th>\n",
              "      <th>Ethnicity</th>\n",
              "      <th>Child's First Name</th>\n",
              "      <th>Count</th>\n",
              "      <th>Rank</th>\n",
              "      <th>Gender.1</th>\n",
              "      <th>Ethnicity.1</th>\n",
              "      <th>Child's First Name.1</th>\n",
              "      <th>Sub1</th>\n",
              "      <th>Sub2</th>\n",
              "      <th>Unnamed: 11</th>\n",
              "    </tr>\n",
              "  </thead>\n",
              "  <tbody>\n",
              "    <tr>\n",
              "      <th>11342</th>\n",
              "      <td>2016</td>\n",
              "      <td>FEMALE</td>\n",
              "      <td>BLACK NON HISPANIC</td>\n",
              "      <td>Tiana</td>\n",
              "      <td>10</td>\n",
              "      <td>43</td>\n",
              "      <td>Female</td>\n",
              "      <td>Black Non Hispanic</td>\n",
              "      <td>Tiana</td>\n",
              "      <td>Black Non Hisp</td>\n",
              "      <td>Black Non Hispanic</td>\n",
              "      <td>NaN</td>\n",
              "    </tr>\n",
              "    <tr>\n",
              "      <th>11343</th>\n",
              "      <td>2016</td>\n",
              "      <td>FEMALE</td>\n",
              "      <td>BLACK NON HISPANIC</td>\n",
              "      <td>Violet</td>\n",
              "      <td>10</td>\n",
              "      <td>43</td>\n",
              "      <td>Female</td>\n",
              "      <td>Black Non Hispanic</td>\n",
              "      <td>Violet</td>\n",
              "      <td>Black Non Hisp</td>\n",
              "      <td>Black Non Hispanic</td>\n",
              "      <td>NaN</td>\n",
              "    </tr>\n",
              "    <tr>\n",
              "      <th>11344</th>\n",
              "      <td>2016</td>\n",
              "      <td>FEMALE</td>\n",
              "      <td>BLACK NON HISPANIC</td>\n",
              "      <td>Zahra</td>\n",
              "      <td>10</td>\n",
              "      <td>43</td>\n",
              "      <td>Female</td>\n",
              "      <td>Black Non Hispanic</td>\n",
              "      <td>Zahra</td>\n",
              "      <td>Black Non Hisp</td>\n",
              "      <td>Black Non Hispanic</td>\n",
              "      <td>NaN</td>\n",
              "    </tr>\n",
              "  </tbody>\n",
              "</table>\n",
              "</div>"
            ],
            "text/plain": [
              "       Year of Birth  Gender  ...                Sub2 Unnamed: 11\n",
              "11342           2016  FEMALE  ...  Black Non Hispanic         NaN\n",
              "11343           2016  FEMALE  ...  Black Non Hispanic         NaN\n",
              "11344           2016  FEMALE  ...  Black Non Hispanic         NaN\n",
              "\n",
              "[3 rows x 12 columns]"
            ]
          },
          "metadata": {
            "tags": []
          },
          "execution_count": 5
        }
      ]
    },
    {
      "cell_type": "code",
      "metadata": {
        "id": "m6mAU_jwjz3k",
        "colab_type": "code",
        "colab": {}
      },
      "source": [
        ""
      ],
      "execution_count": 0,
      "outputs": []
    }
  ]
}