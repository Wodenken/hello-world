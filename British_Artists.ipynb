{
  "nbformat": 4,
  "nbformat_minor": 0,
  "metadata": {
    "colab": {
      "name": "British Artists.ipynb",
      "provenance": [],
      "include_colab_link": true
    },
    "kernelspec": {
      "name": "python3",
      "display_name": "Python 3"
    }
  },
  "cells": [
    {
      "cell_type": "markdown",
      "metadata": {
        "id": "view-in-github",
        "colab_type": "text"
      },
      "source": [
        "<a href=\"https://colab.research.google.com/github/Wodenken/hello-world/blob/master/British_Artists.ipynb\" target=\"_parent\"><img src=\"https://colab.research.google.com/assets/colab-badge.svg\" alt=\"Open In Colab\"/></a>"
      ]
    },
    {
      "cell_type": "code",
      "metadata": {
        "id": "38S0tLAstUuG",
        "colab_type": "code",
        "colab": {}
      },
      "source": [
        "import requests\n"
      ],
      "execution_count": 0,
      "outputs": []
    },
    {
      "cell_type": "code",
      "metadata": {
        "id": "LkZ4IzdStZQx",
        "colab_type": "code",
        "colab": {
          "base_uri": "https://localhost:8080/",
          "height": 34
        },
        "outputId": "25cb76a9-18ea-40a7-9519-bdc5f6c9ba95"
      },
      "source": [
        "url = \"https://api.harvardartmuseums.org/person?apikey=5d5e0780-d9a7-11e9-b276-5d17a5ca08e0&q=culture:British\"\n",
        "query = {'limit':100}\n",
        "response = requests.get(url, query)\n",
        "response.ok\n",
        "response.status_code"
      ],
      "execution_count": 158,
      "outputs": [
        {
          "output_type": "execute_result",
          "data": {
            "text/plain": [
              "200"
            ]
          },
          "metadata": {
            "tags": []
          },
          "execution_count": 158
        }
      ]
    },
    {
      "cell_type": "code",
      "metadata": {
        "id": "6q_MSFT3pFtP",
        "colab_type": "code",
        "colab": {
          "base_uri": "https://localhost:8080/",
          "height": 1000
        },
        "outputId": "065fcf42-a0c8-4f9d-81c3-f093da12fb5b"
      },
      "source": [
        "data = response.json()\n",
        "data"
      ],
      "execution_count": 172,
      "outputs": [
        {
          "output_type": "execute_result",
          "data": {
            "text/plain": [
              "{'info': {'next': 'https://api.harvardartmuseums.org/person?apikey=5d5e0780-d9a7-11e9-b276-5d17a5ca08e0&q=culture%3ABritish&limit=100&skip=0&page=2',\n",
              "  'page': 1,\n",
              "  'pages': 187,\n",
              "  'totalrecords': 1861,\n",
              "  'totalrecordsperquery': 10},\n",
              " 'records': [{'alphasort': 'Downes, Rackstraw',\n",
              "   'birthplace': 'Kent, England',\n",
              "   'culture': 'British',\n",
              "   'datebegin': 1939,\n",
              "   'dateend': 0,\n",
              "   'deathplace': None,\n",
              "   'displaydate': 'born 1939',\n",
              "   'displayname': 'Rackstraw Downes',\n",
              "   'gender': 'unknown',\n",
              "   'id': 14458,\n",
              "   'lastupdate': '2019-09-17T05:32:05-0400',\n",
              "   'objectcount': 1,\n",
              "   'personid': 14458,\n",
              "   'url': 'https://www.harvardartmuseums.org/collections/person/14458'},\n",
              "  {'alphasort': 'Greenwood, C.',\n",
              "   'birthplace': None,\n",
              "   'culture': 'British?',\n",
              "   'datebegin': 0,\n",
              "   'dateend': 0,\n",
              "   'deathplace': None,\n",
              "   'displaydate': None,\n",
              "   'displayname': 'C. Greenwood',\n",
              "   'gender': 'unknown',\n",
              "   'id': 18258,\n",
              "   'lastupdate': '2019-09-17T05:32:33-0400',\n",
              "   'objectcount': 2,\n",
              "   'personid': 18258,\n",
              "   'url': 'https://www.harvardartmuseums.org/collections/person/18258'},\n",
              "  {'alphasort': 'Detmold, Charles Maurice',\n",
              "   'birthplace': None,\n",
              "   'culture': 'British',\n",
              "   'datebegin': 1883,\n",
              "   'dateend': 1908,\n",
              "   'deathplace': None,\n",
              "   'displaydate': '1883 - 1908',\n",
              "   'displayname': 'Charles Maurice Detmold',\n",
              "   'gender': 'unknown',\n",
              "   'id': 18011,\n",
              "   'lastupdate': '2019-09-17T05:33:04-0400',\n",
              "   'objectcount': 1,\n",
              "   'personid': 18011,\n",
              "   'url': 'https://www.harvardartmuseums.org/collections/person/18011'},\n",
              "  {'alphasort': 'Douglas, Willam Fettes Sir',\n",
              "   'birthplace': None,\n",
              "   'culture': 'British',\n",
              "   'datebegin': 1822,\n",
              "   'dateend': 1891,\n",
              "   'deathplace': None,\n",
              "   'displaydate': '1822 - 1891',\n",
              "   'displayname': 'Willam Fettes Douglas',\n",
              "   'gender': 'unknown',\n",
              "   'id': 18513,\n",
              "   'lastupdate': '2019-09-17T05:33:14-0400',\n",
              "   'objectcount': 4,\n",
              "   'personid': 18513,\n",
              "   'url': 'https://www.harvardartmuseums.org/collections/person/18513'},\n",
              "  {'alphasort': 'Armitage, Kenneth',\n",
              "   'birthplace': 'Leeds',\n",
              "   'culture': 'British',\n",
              "   'datebegin': 1916,\n",
              "   'dateend': 2002,\n",
              "   'deathplace': 'London',\n",
              "   'displaydate': '1916 - 2002',\n",
              "   'displayname': 'Kenneth Armitage',\n",
              "   'gender': 'male',\n",
              "   'id': 18380,\n",
              "   'lastupdate': '2019-09-17T05:33:17-0400',\n",
              "   'objectcount': 4,\n",
              "   'personid': 18380,\n",
              "   'ulan_id': '500008896',\n",
              "   'url': 'https://www.harvardartmuseums.org/collections/person/18380',\n",
              "   'viaf_id': '69070187',\n",
              "   'wikipedia_id': '20418053'},\n",
              "  {'alphasort': 'Hutchinson, Peter',\n",
              "   'birthplace': 'London, England',\n",
              "   'culture': 'British',\n",
              "   'datebegin': 1930,\n",
              "   'dateend': 9999,\n",
              "   'deathplace': None,\n",
              "   'displaydate': 'born 1930',\n",
              "   'displayname': 'Peter Hutchinson',\n",
              "   'gender': 'unknown',\n",
              "   'id': 18173,\n",
              "   'lastupdate': '2019-09-17T05:33:24-0400',\n",
              "   'objectcount': 1,\n",
              "   'personid': 18173,\n",
              "   'url': 'https://www.harvardartmuseums.org/collections/person/18173'},\n",
              "  {'alphasort': 'Burch, Edward Jr.',\n",
              "   'birthplace': None,\n",
              "   'culture': 'British',\n",
              "   'datebegin': 1730,\n",
              "   'dateend': 1814,\n",
              "   'deathplace': None,\n",
              "   'displaydate': '1730 - 1814',\n",
              "   'displayname': 'Edward Burch Jr.',\n",
              "   'gender': 'unknown',\n",
              "   'id': 18942,\n",
              "   'lastupdate': '2019-09-17T05:33:24-0400',\n",
              "   'objectcount': 1,\n",
              "   'personid': 18942,\n",
              "   'url': 'https://www.harvardartmuseums.org/collections/person/18942'},\n",
              "  {'alphasort': 'Eley, William',\n",
              "   'birthplace': None,\n",
              "   'culture': 'British',\n",
              "   'datebegin': 1777,\n",
              "   'dateend': 0,\n",
              "   'deathplace': None,\n",
              "   'displaydate': 'born 1777',\n",
              "   'displayname': 'William Eley',\n",
              "   'gender': 'unknown',\n",
              "   'id': 19344,\n",
              "   'lastupdate': '2019-09-17T05:33:32-0400',\n",
              "   'objectcount': 1,\n",
              "   'personid': 19344,\n",
              "   'url': 'https://www.harvardartmuseums.org/collections/person/19344'},\n",
              "  {'alphasort': 'Bennett, William James',\n",
              "   'birthplace': None,\n",
              "   'culture': 'British',\n",
              "   'datebegin': 1787,\n",
              "   'dateend': 1844,\n",
              "   'deathplace': None,\n",
              "   'displaydate': '1787 - 1844',\n",
              "   'displayname': 'William James Bennett',\n",
              "   'gender': 'unknown',\n",
              "   'id': 18925,\n",
              "   'lastupdate': '2019-09-17T05:33:41-0400',\n",
              "   'objectcount': 1,\n",
              "   'personid': 18925,\n",
              "   'url': 'https://www.harvardartmuseums.org/collections/person/18925'},\n",
              "  {'alphasort': 'du Maurier, George Louis',\n",
              "   'birthplace': None,\n",
              "   'culture': 'British',\n",
              "   'datebegin': 1831,\n",
              "   'dateend': 1896,\n",
              "   'deathplace': None,\n",
              "   'displaydate': '1831 - 1896',\n",
              "   'displayname': 'George Louis du Maurier',\n",
              "   'gender': 'male',\n",
              "   'id': 18712,\n",
              "   'lastupdate': '2019-09-17T05:33:42-0400',\n",
              "   'objectcount': 8,\n",
              "   'personid': 18712,\n",
              "   'ulan_id': '500002590',\n",
              "   'url': 'https://www.harvardartmuseums.org/collections/person/18712',\n",
              "   'viaf_id': '10144',\n",
              "   'wikipedia_id': '202151'}]}"
            ]
          },
          "metadata": {
            "tags": []
          },
          "execution_count": 172
        }
      ]
    },
    {
      "cell_type": "code",
      "metadata": {
        "id": "chQRS86_nD6e",
        "colab_type": "code",
        "colab": {
          "base_uri": "https://localhost:8080/",
          "height": 194
        },
        "outputId": "50787d1b-3b9b-42bc-c2de-d17bd47bab08"
      },
      "source": [
        "def british_artists(origins):\n",
        "  return [{\n",
        "      'alphasort':origin['alphasort'],\n",
        "      'birthplace':origin['birthplace']\n",
        "  } for origin in origins]\n",
        "  origin = []\n",
        "  skip = 0\n",
        "  limit = 99\n",
        "  url = \"https://api.harvardartmuseums.org/person?apikey=5d5e0780-d9a7-11e9-b276-5d17a5ca08e0&q=culture:British\"\n",
        "  query = {'limit':limit, 'skip': skip}\n",
        "  response = requests.get(url, query)\n",
        "  if(response.ok):\n",
        "    data = response.json()\n",
        "    meta_data = data['info']\n",
        "    total = meta_data['results']['total']\n",
        "    origin = british_artist(data['result'])\n",
        "    skip = skip + limit \n",
        "    while skip < total:\n",
        "      query = {'limit': limit, 'skip': skip}\n",
        "      response = requests.get(url, query)\n",
        "      if(response.ok):\n",
        "        origin = origin + british_artists(respons.json()['result'])\n",
        "        skip = skip +limit\n",
        "\n",
        "british_artists(origins)"
      ],
      "execution_count": 180,
      "outputs": [
        {
          "output_type": "execute_result",
          "data": {
            "text/plain": [
              "[{'alphasort': 'Downes, Rackstraw', 'birthplace': 'Kent, England'},\n",
              " {'alphasort': 'Greenwood, C.', 'birthplace': None},\n",
              " {'alphasort': 'Detmold, Charles Maurice', 'birthplace': None},\n",
              " {'alphasort': 'Douglas, Willam Fettes Sir', 'birthplace': None},\n",
              " {'alphasort': 'Armitage, Kenneth', 'birthplace': 'Leeds'},\n",
              " {'alphasort': 'Hutchinson, Peter', 'birthplace': 'London, England'},\n",
              " {'alphasort': 'Burch, Edward Jr.', 'birthplace': None},\n",
              " {'alphasort': 'Eley, William', 'birthplace': None},\n",
              " {'alphasort': 'Bennett, William James', 'birthplace': None},\n",
              " {'alphasort': 'du Maurier, George Louis', 'birthplace': None}]"
            ]
          },
          "metadata": {
            "tags": []
          },
          "execution_count": 180
        }
      ]
    },
    {
      "cell_type": "code",
      "metadata": {
        "id": "C5b5Cm5ThjiC",
        "colab_type": "code",
        "colab": {}
      },
      "source": [
        ""
      ],
      "execution_count": 0,
      "outputs": []
    },
    {
      "cell_type": "code",
      "metadata": {
        "id": "JB1oD2Ebjuhx",
        "colab_type": "code",
        "colab": {}
      },
      "source": [
        ""
      ],
      "execution_count": 0,
      "outputs": []
    }
  ]
}